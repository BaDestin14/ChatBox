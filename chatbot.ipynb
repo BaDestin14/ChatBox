{
  "nbformat": 4,
  "nbformat_minor": 0,
  "metadata": {
    "colab": {
      "provenance": [],
      "authorship_tag": "ABX9TyPeTN7IGe2Nodq2s16TQObu",
      "include_colab_link": true
    },
    "kernelspec": {
      "name": "python3",
      "display_name": "Python 3"
    },
    "language_info": {
      "name": "python"
    }
  },
  "cells": [
    {
      "cell_type": "markdown",
      "metadata": {
        "id": "view-in-github",
        "colab_type": "text"
      },
      "source": [
        "<a href=\"https://colab.research.google.com/github/BaDestin14/ChatBox/blob/main/chatbot.ipynb\" target=\"_parent\"><img src=\"https://colab.research.google.com/assets/colab-badge.svg\" alt=\"Open In Colab\"/></a>"
      ]
    },
    {
      "cell_type": "code",
      "execution_count": 12,
      "metadata": {
        "id": "X_2OIP18YZta"
      },
      "outputs": [],
      "source": [
        "import numpy as np\n",
        "import re\n",
        "from sklearn.feature_extraction.text import TfidfVectorizer\n",
        "from sklearn.metrics.pairwise import cosine_similarity\n",
        "\n",
        "import nltk\n",
        "try:\n",
        "    nltk.data.find('tokenizers/punkt/french.pickle')\n",
        "except nltk.downloader.DownloadError:\n",
        "    nltk.download('punkt')\n",
        "except LookupError:\n",
        "    nltk.download('punkt')\n",
        "\n",
        "from nltk.tokenize import sent_tokenize"
      ]
    },
    {
      "cell_type": "code",
      "source": [
        "# Chargement du texte\n",
        "def load_text(discours_methode):\n",
        "    with open(discours_methode, 'r', encoding='utf-8') as file:\n",
        "        return file.read()\n",
        "\n",
        "# Prétraitement du texte\n",
        "def preprocess(text):\n",
        "    # Tokenisation en phrases avec gestion des sauts de ligne\n",
        "    text = text.replace('\\n', ' ')\n",
        "    sentences = sent_tokenize(text, language='french')\n",
        "\n",
        "    # Nettoyage des phrases\n",
        "    cleaned_sentences = []\n",
        "    for sentence in sentences:\n",
        "        # Suppression des numérotations et caractères spéciaux\n",
        "        sentence = re.sub(r'[^\\w\\sàâäéèêëîïôöùûüçÀÂÄÉÈÊËÎÏÔÖÙÛÜÇ]', '', sentence)\n",
        "        sentence = re.sub(r'\\d+', '', sentence).strip()\n",
        "        if len(sentence) > 10:  # Filtrer les phrases trop courtes\n",
        "            cleaned_sentences.append(sentence)\n",
        "\n",
        "    return cleaned_sentences"
      ],
      "metadata": {
        "id": "4ZsBuUL0i7mF"
      },
      "execution_count": 13,
      "outputs": []
    },
    {
      "cell_type": "code",
      "source": [
        "# Trouver la phrase la plus pertinente\n",
        "def get_most_relevant_sentence(query, sentences, vectorizer, tfidf_matrix):\n",
        "    query_vec = vectorizer.transform([query])\n",
        "    similarities = cosine_similarity(query_vec, tfidf_matrix).flatten()\n",
        "    most_relevant_idx = np.argmax(similarities)\n",
        "    return sentences[most_relevant_idx], similarities[most_relevant_idx]"
      ],
      "metadata": {
        "id": "3Yz-nDXqjs2x"
      },
      "execution_count": 14,
      "outputs": []
    },
    {
      "cell_type": "code",
      "metadata": {
        "colab": {
          "base_uri": "https://localhost:8080/"
        },
        "id": "3e961cd3",
        "outputId": "c61fdef2-4f4b-46c6-c815-4d9d0cf2d5fe"
      },
      "source": [
        "!pip install streamlit"
      ],
      "execution_count": 15,
      "outputs": [
        {
          "output_type": "stream",
          "name": "stdout",
          "text": [
            "Requirement already satisfied: streamlit in /usr/local/lib/python3.11/dist-packages (1.46.1)\n",
            "Requirement already satisfied: altair<6,>=4.0 in /usr/local/lib/python3.11/dist-packages (from streamlit) (5.5.0)\n",
            "Requirement already satisfied: blinker<2,>=1.5.0 in /usr/local/lib/python3.11/dist-packages (from streamlit) (1.9.0)\n",
            "Requirement already satisfied: cachetools<7,>=4.0 in /usr/local/lib/python3.11/dist-packages (from streamlit) (5.5.2)\n",
            "Requirement already satisfied: click<9,>=7.0 in /usr/local/lib/python3.11/dist-packages (from streamlit) (8.2.1)\n",
            "Requirement already satisfied: numpy<3,>=1.23 in /usr/local/lib/python3.11/dist-packages (from streamlit) (2.0.2)\n",
            "Requirement already satisfied: packaging<26,>=20 in /usr/local/lib/python3.11/dist-packages (from streamlit) (24.2)\n",
            "Requirement already satisfied: pandas<3,>=1.4.0 in /usr/local/lib/python3.11/dist-packages (from streamlit) (2.2.2)\n",
            "Requirement already satisfied: pillow<12,>=7.1.0 in /usr/local/lib/python3.11/dist-packages (from streamlit) (11.2.1)\n",
            "Requirement already satisfied: protobuf<7,>=3.20 in /usr/local/lib/python3.11/dist-packages (from streamlit) (5.29.5)\n",
            "Requirement already satisfied: pyarrow>=7.0 in /usr/local/lib/python3.11/dist-packages (from streamlit) (18.1.0)\n",
            "Requirement already satisfied: requests<3,>=2.27 in /usr/local/lib/python3.11/dist-packages (from streamlit) (2.32.3)\n",
            "Requirement already satisfied: tenacity<10,>=8.1.0 in /usr/local/lib/python3.11/dist-packages (from streamlit) (8.5.0)\n",
            "Requirement already satisfied: toml<2,>=0.10.1 in /usr/local/lib/python3.11/dist-packages (from streamlit) (0.10.2)\n",
            "Requirement already satisfied: typing-extensions<5,>=4.4.0 in /usr/local/lib/python3.11/dist-packages (from streamlit) (4.14.1)\n",
            "Requirement already satisfied: watchdog<7,>=2.1.5 in /usr/local/lib/python3.11/dist-packages (from streamlit) (6.0.0)\n",
            "Requirement already satisfied: gitpython!=3.1.19,<4,>=3.0.7 in /usr/local/lib/python3.11/dist-packages (from streamlit) (3.1.44)\n",
            "Requirement already satisfied: pydeck<1,>=0.8.0b4 in /usr/local/lib/python3.11/dist-packages (from streamlit) (0.9.1)\n",
            "Requirement already satisfied: tornado!=6.5.0,<7,>=6.0.3 in /usr/local/lib/python3.11/dist-packages (from streamlit) (6.4.2)\n",
            "Requirement already satisfied: jinja2 in /usr/local/lib/python3.11/dist-packages (from altair<6,>=4.0->streamlit) (3.1.6)\n",
            "Requirement already satisfied: jsonschema>=3.0 in /usr/local/lib/python3.11/dist-packages (from altair<6,>=4.0->streamlit) (4.24.0)\n",
            "Requirement already satisfied: narwhals>=1.14.2 in /usr/local/lib/python3.11/dist-packages (from altair<6,>=4.0->streamlit) (1.46.0)\n",
            "Requirement already satisfied: gitdb<5,>=4.0.1 in /usr/local/lib/python3.11/dist-packages (from gitpython!=3.1.19,<4,>=3.0.7->streamlit) (4.0.12)\n",
            "Requirement already satisfied: python-dateutil>=2.8.2 in /usr/local/lib/python3.11/dist-packages (from pandas<3,>=1.4.0->streamlit) (2.9.0.post0)\n",
            "Requirement already satisfied: pytz>=2020.1 in /usr/local/lib/python3.11/dist-packages (from pandas<3,>=1.4.0->streamlit) (2025.2)\n",
            "Requirement already satisfied: tzdata>=2022.7 in /usr/local/lib/python3.11/dist-packages (from pandas<3,>=1.4.0->streamlit) (2025.2)\n",
            "Requirement already satisfied: charset-normalizer<4,>=2 in /usr/local/lib/python3.11/dist-packages (from requests<3,>=2.27->streamlit) (3.4.2)\n",
            "Requirement already satisfied: idna<4,>=2.5 in /usr/local/lib/python3.11/dist-packages (from requests<3,>=2.27->streamlit) (3.10)\n",
            "Requirement already satisfied: urllib3<3,>=1.21.1 in /usr/local/lib/python3.11/dist-packages (from requests<3,>=2.27->streamlit) (2.4.0)\n",
            "Requirement already satisfied: certifi>=2017.4.17 in /usr/local/lib/python3.11/dist-packages (from requests<3,>=2.27->streamlit) (2025.7.9)\n",
            "Requirement already satisfied: smmap<6,>=3.0.1 in /usr/local/lib/python3.11/dist-packages (from gitdb<5,>=4.0.1->gitpython!=3.1.19,<4,>=3.0.7->streamlit) (5.0.2)\n",
            "Requirement already satisfied: MarkupSafe>=2.0 in /usr/local/lib/python3.11/dist-packages (from jinja2->altair<6,>=4.0->streamlit) (3.0.2)\n",
            "Requirement already satisfied: attrs>=22.2.0 in /usr/local/lib/python3.11/dist-packages (from jsonschema>=3.0->altair<6,>=4.0->streamlit) (25.3.0)\n",
            "Requirement already satisfied: jsonschema-specifications>=2023.03.6 in /usr/local/lib/python3.11/dist-packages (from jsonschema>=3.0->altair<6,>=4.0->streamlit) (2025.4.1)\n",
            "Requirement already satisfied: referencing>=0.28.4 in /usr/local/lib/python3.11/dist-packages (from jsonschema>=3.0->altair<6,>=4.0->streamlit) (0.36.2)\n",
            "Requirement already satisfied: rpds-py>=0.7.1 in /usr/local/lib/python3.11/dist-packages (from jsonschema>=3.0->altair<6,>=4.0->streamlit) (0.26.0)\n",
            "Requirement already satisfied: six>=1.5 in /usr/local/lib/python3.11/dist-packages (from python-dateutil>=2.8.2->pandas<3,>=1.4.0->streamlit) (1.17.0)\n"
          ]
        }
      ]
    },
    {
      "cell_type": "code",
      "source": [
        "import streamlit as st"
      ],
      "metadata": {
        "id": "POmiFjs8j5jy"
      },
      "execution_count": 16,
      "outputs": []
    },
    {
      "cell_type": "code",
      "metadata": {
        "colab": {
          "base_uri": "https://localhost:8080/"
        },
        "id": "7268517c",
        "outputId": "e7101f6d-7cf0-404e-cd4a-68a5a958fd9f"
      },
      "source": [
        "import nltk\n",
        "nltk.download('punkt')"
      ],
      "execution_count": 17,
      "outputs": [
        {
          "output_type": "stream",
          "name": "stderr",
          "text": [
            "[nltk_data] Downloading package punkt to /root/nltk_data...\n",
            "[nltk_data]   Package punkt is already up-to-date!\n"
          ]
        },
        {
          "output_type": "execute_result",
          "data": {
            "text/plain": [
              "True"
            ]
          },
          "metadata": {},
          "execution_count": 17
        }
      ]
    },
    {
      "cell_type": "code",
      "source": [
        "# Interface du chatbot\n",
        "def chatbot_response(query, sentences, vectorizer, tfidf_matrix):\n",
        "    if query.lower() in ['bonjour', 'salut', 'hello']:\n",
        "        return \"Bonjour ! Posez-moi une question sur la méthode philosophique de Descartes.\"\n",
        "\n",
        "    response, score = get_most_relevant_sentence(query, sentences, vectorizer, tfidf_matrix)\n",
        "    return response if score > 0.2 else \"Je n'ai pas suffisamment d'information pour répondre à cette question.\"\n",
        "\n",
        "def main():\n",
        "    st.title(\"🤖 Chatbot Philosophe - Descartes\")\n",
        "    st.write(\"Posez des questions sur le Discours de la Méthode de René Descartes\")\n",
        "\n",
        "    # Chargement et prétraitement du texte\n",
        "    text = load_text(\"discours_methode.txt\")\n",
        "    sentences = preprocess(text)\n",
        "\n",
        "    # Initialisation TF-IDF\n",
        "    vectorizer = TfidfVectorizer(stop_words=['le', 'la', 'les', 'de', 'du', 'des', 'un', 'une'])\n",
        "    tfidf_matrix = vectorizer.fit_transform(sentences)\n",
        "\n",
        "    # Interface utilisateur\n",
        "    user_input = st.text_input(\"Votre question :\", \"\")\n",
        "    if user_input:\n",
        "        response = chatbot_response(user_input, sentences, vectorizer, tfidf_matrix)\n",
        "        st.subheader(\"Réponse :\")\n",
        "        st.write(response)\n",
        "\n",
        "if __name__ == \"__main__\":\n",
        "    main()"
      ],
      "metadata": {
        "colab": {
          "base_uri": "https://localhost:8080/"
        },
        "id": "Kj3OEwaEkP3r",
        "outputId": "124bbc80-d5b6-41b3-b353-e11b96addcb3"
      },
      "execution_count": 18,
      "outputs": [
        {
          "output_type": "stream",
          "name": "stderr",
          "text": [
            "2025-07-14 20:16:19.900 Thread 'MainThread': missing ScriptRunContext! This warning can be ignored when running in bare mode.\n",
            "2025-07-14 20:16:19.903 Thread 'MainThread': missing ScriptRunContext! This warning can be ignored when running in bare mode.\n",
            "2025-07-14 20:16:19.904 Thread 'MainThread': missing ScriptRunContext! This warning can be ignored when running in bare mode.\n",
            "2025-07-14 20:16:19.906 Thread 'MainThread': missing ScriptRunContext! This warning can be ignored when running in bare mode.\n",
            "2025-07-14 20:16:19.907 Thread 'MainThread': missing ScriptRunContext! This warning can be ignored when running in bare mode.\n",
            "2025-07-14 20:16:19.908 Thread 'MainThread': missing ScriptRunContext! This warning can be ignored when running in bare mode.\n",
            "2025-07-14 20:16:20.289 Thread 'MainThread': missing ScriptRunContext! This warning can be ignored when running in bare mode.\n",
            "2025-07-14 20:16:20.290 Thread 'MainThread': missing ScriptRunContext! This warning can be ignored when running in bare mode.\n",
            "2025-07-14 20:16:20.291 Thread 'MainThread': missing ScriptRunContext! This warning can be ignored when running in bare mode.\n",
            "2025-07-14 20:16:20.293 Thread 'MainThread': missing ScriptRunContext! This warning can be ignored when running in bare mode.\n",
            "2025-07-14 20:16:20.294 Session state does not function when running a script without `streamlit run`\n",
            "2025-07-14 20:16:20.301 Thread 'MainThread': missing ScriptRunContext! This warning can be ignored when running in bare mode.\n",
            "2025-07-14 20:16:20.302 Thread 'MainThread': missing ScriptRunContext! This warning can be ignored when running in bare mode.\n",
            "2025-07-14 20:16:20.303 Thread 'MainThread': missing ScriptRunContext! This warning can be ignored when running in bare mode.\n"
          ]
        }
      ]
    },
    {
      "cell_type": "code",
      "metadata": {
        "colab": {
          "base_uri": "https://localhost:8080/"
        },
        "id": "0ced10d0",
        "outputId": "d027c161-220e-4395-e703-2d8392aa7286"
      },
      "source": [
        "%%writefile chatbot_descartes.py\n",
        "\n",
        "import numpy as np\n",
        "import re\n",
        "from sklearn.feature_extraction.text import TfidfVectorizer\n",
        "from sklearn.metrics.pairwise import cosine_similarity\n",
        "\n",
        "import nltk\n",
        "try:\n",
        "    nltk.data.find('tokenizers/punkt/french.pickle')\n",
        "except nltk.downloader.DownloadError:\n",
        "    nltk.download('punkt')\n",
        "except LookupError:\n",
        "    nltk.download('punkt')\n",
        "\n",
        "from nltk.tokenize import sent_tokenize\n",
        "\n",
        "import streamlit as st\n",
        "\n",
        "# Chargement du texte\n",
        "def load_text(discours_methode):\n",
        "    with open(discours_methode, 'r', encoding='utf-8') as file:\n",
        "        return file.read()\n",
        "\n",
        "# Prétraitement du texte\n",
        "def preprocess(text):\n",
        "    # Tokenisation en phrases avec gestion des sauts de ligne\n",
        "    text = text.replace('\\n', ' ')\n",
        "    sentences = sent_tokenize(text, language='french')\n",
        "\n",
        "    # Nettoyage des phrases\n",
        "    cleaned_sentences = []\n",
        "    for sentence in sentences:\n",
        "        # Suppression des numérotations et caractères spéciaux\n",
        "        sentence = re.sub(r'[^\\w\\sàâäéèêëîïôöùûüçÀÂÄÉÈÊËÎÏÔÖÙÛÜÇ]', '', sentence)\n",
        "        sentence = re.sub(r'\\d+', '', sentence).strip()\n",
        "        if len(sentence) > 10:  # Filtrer les phrases trop courtes\n",
        "            cleaned_sentences.append(sentence)\n",
        "\n",
        "    return cleaned_sentences\n",
        "\n",
        "# Trouver la phrase la plus pertinente\n",
        "def get_most_relevant_sentence(query, sentences, vectorizer, tfidf_matrix):\n",
        "    query_vec = vectorizer.transform([query])\n",
        "    similarities = cosine_similarity(query_vec, tfidf_matrix).flatten()\n",
        "    most_relevant_idx = np.argmax(similarities)\n",
        "    return sentences[most_relevant_idx], similarities[most_relevant_idx]\n",
        "\n",
        "# Interface du chatbot\n",
        "def chatbot_response(query, sentences, vectorizer, tfidf_matrix):\n",
        "    if query.lower() in ['bonjour', 'salut', 'hello']:\n",
        "        return \"Bonjour ! Posez-moi une question sur la méthode philosophique de Descartes.\"\n",
        "\n",
        "    response, score = get_most_relevant_sentence(query, sentences, vectorizer, tfidf_matrix)\n",
        "    return response if score > 0.2 else \"Je n'ai pas suffisamment d'information pour répondre à cette question.\"\n",
        "\n",
        "def main():\n",
        "    st.title(\"🤖 Chatbot Philosophe - Descartes\")\n",
        "    st.write(\"Posez des questions sur le Discours de la Méthode de René Descartes\")\n",
        "\n",
        "    # Chargement et prétraitement du texte\n",
        "    try:\n",
        "        text = load_text(\"discours_methode.txt\")\n",
        "        sentences = preprocess(text)\n",
        "\n",
        "        # Initialisation TF-IDF\n",
        "        vectorizer = TfidfVectorizer(stop_words=['le', 'la', 'les', 'de', 'du', 'des', 'un', 'une'])\n",
        "        tfidf_matrix = vectorizer.fit_transform(sentences)\n",
        "\n",
        "        # Interface utilisateur\n",
        "        user_input = st.text_input(\"Votre question :\", \"\")\n",
        "        if user_input:\n",
        "            response = chatbot_response(user_input, sentences, vectorizer, tfidf_matrix)\n",
        "            st.subheader(\"Réponse :\")\n",
        "            st.write(response)\n",
        "    except FileNotFoundError:\n",
        "        st.error(\"Erreur : Le fichier 'discours_methode.txt' est introuvable. Assurez-vous qu'il est présent dans le même répertoire.\")\n",
        "\n",
        "if __name__ == \"__main__\":\n",
        "    main()"
      ],
      "execution_count": 21,
      "outputs": [
        {
          "output_type": "stream",
          "name": "stdout",
          "text": [
            "Writing chatbot_descartes.py\n"
          ]
        }
      ]
    },
    {
      "cell_type": "code",
      "metadata": {
        "colab": {
          "base_uri": "https://localhost:8080/"
        },
        "id": "zU0cNDoilxLS",
        "outputId": "48a13e3c-5c96-43a7-d277-43dc0b9d600c"
      },
      "source": [
        "!streamlit run chatbot_descartes.py"
      ],
      "execution_count": null,
      "outputs": [
        {
          "output_type": "stream",
          "name": "stdout",
          "text": [
            "\n",
            "Collecting usage statistics. To deactivate, set browser.gatherUsageStats to false.\n",
            "\u001b[0m\n",
            "\u001b[0m\n",
            "\u001b[34m\u001b[1m  You can now view your Streamlit app in your browser.\u001b[0m\n",
            "\u001b[0m\n",
            "\u001b[34m  Local URL: \u001b[0m\u001b[1mhttp://localhost:8501\u001b[0m\n",
            "\u001b[34m  Network URL: \u001b[0m\u001b[1mhttp://172.28.0.12:8501\u001b[0m\n",
            "\u001b[34m  External URL: \u001b[0m\u001b[1mhttp://35.185.225.191:8501\u001b[0m\n",
            "\u001b[0m\n"
          ]
        }
      ]
    }
  ]
}